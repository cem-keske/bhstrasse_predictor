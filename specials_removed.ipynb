{
 "cells": [
  {
   "cell_type": "code",
   "execution_count": 1,
   "metadata": {
    "ExecuteTime": {
     "end_time": "2024-03-26T00:58:04.264130100Z",
     "start_time": "2024-03-26T00:58:01.924860400Z"
    }
   },
   "outputs": [],
   "source": [
    "import numpy as np\n",
    "import pandas as pd\n",
    "\n",
    "from datetime import datetime\n",
    "from sklearn.model_selection import train_test_split\n",
    "from sklearn.ensemble import RandomForestRegressor\n",
    "from sklearn.metrics import *\n",
    "\n",
    "from utils import load_and_preprocess\n",
    "\n",
    "from datetime import datetime\n",
    "import matplotlib.pyplot as plt\n",
    "import matplotlib"
   ]
  },
  {
   "cell_type": "code",
   "outputs": [],
   "source": [],
   "metadata": {
    "collapsed": false,
    "ExecuteTime": {
     "end_time": "2024-03-26T00:58:04.280115200Z",
     "start_time": "2024-03-26T00:58:04.267078500Z"
    }
   },
   "execution_count": 1
  },
  {
   "cell_type": "code",
   "execution_count": 2,
   "metadata": {
    "ExecuteTime": {
     "end_time": "2024-03-26T00:58:10.186696500Z",
     "start_time": "2024-03-26T00:58:04.272610100Z"
    }
   },
   "outputs": [],
   "source": [
    "%matplotlib tk\n",
    "location_id = 329 # 330, 331\n",
    "path = 'data/hystreet_fussgaengerfrequenzen_seit2021.csv'\n",
    "df = load_and_preprocess(path, location_id)\n",
    "\n",
    "df = df.loc[df['is_special_day'] == 0]\n"
   ]
  },
  {
   "cell_type": "code",
   "outputs": [
    {
     "data": {
      "text/plain": "       temperature  pedestrians_count  is_holiday  is_special_day  \\\n0            13.51                151           0               0   \n3            13.46                 19           0               0   \n6            13.26                 10           0               0   \n9            13.51                  6           0               0   \n12           13.44                 22           0               0   \n...            ...                ...         ...             ...   \n63969         6.00               1507           0               0   \n63972         6.00               2280           0               0   \n63975         7.00               3216           0               0   \n63978         6.80               2858           0               0   \n63981         6.90                644           0               0   \n\n                      date  weather_condition_clear-day  \\\n0      2021-09-28 22:00:00                            0   \n3      2021-09-28 23:00:00                            0   \n6      2021-09-29 00:00:00                            0   \n9      2021-09-29 01:00:00                            0   \n12     2021-09-29 02:00:00                            0   \n...                    ...                          ...   \n63969  2024-03-05 09:00:00                            0   \n63972  2024-03-05 10:00:00                            0   \n63975  2024-03-05 11:00:00                            0   \n63978  2024-03-05 12:00:00                            0   \n63981  2024-03-05 13:00:00                            0   \n\n       weather_condition_clear-night  weather_condition_cloudy  \\\n0                                  0                         1   \n3                                  0                         1   \n6                                  0                         0   \n9                                  0                         0   \n12                                 0                         0   \n...                              ...                       ...   \n63969                              0                         0   \n63972                              0                         0   \n63975                              0                         0   \n63978                              0                         0   \n63981                              0                         0   \n\n       weather_condition_fog  weather_condition_partly-cloudy-day  \\\n0                          0                                    0   \n3                          0                                    0   \n6                          0                                    0   \n9                          0                                    0   \n12                         0                                    0   \n...                      ...                                  ...   \n63969                      0                                    0   \n63972                      0                                    0   \n63975                      0                                    0   \n63978                      0                                    0   \n63981                      0                                    0   \n\n       weather_condition_partly-cloudy-night  weather_condition_rain  \\\n0                                          0                       0   \n3                                          0                       0   \n6                                          0                       1   \n9                                          0                       1   \n12                                         0                       1   \n...                                      ...                     ...   \n63969                                      0                       1   \n63972                                      0                       1   \n63975                                      0                       1   \n63978                                      0                       1   \n63981                                      0                       1   \n\n       weather_condition_snow  weather_condition_wind  time_cos      time_sin  \\\n0                           0                       0  0.866025 -5.000000e-01   \n3                           0                       0  0.965926 -2.588190e-01   \n6                           0                       0  1.000000  0.000000e+00   \n9                           0                       0  0.965926  2.588190e-01   \n12                          0                       0  0.866025  5.000000e-01   \n...                       ...                     ...       ...           ...   \n63969                       0                       0 -0.707107  7.071068e-01   \n63972                       0                       0 -0.866025  5.000000e-01   \n63975                       0                       0 -0.965926  2.588190e-01   \n63978                       0                       0 -1.000000  1.224647e-16   \n63981                       0                       0 -0.965926 -2.588190e-01   \n\n        day_cos   day_sin  dayofyear_cos  dayofyear_sin  \n0      0.623490  0.781831      -0.047321      -0.998880  \n3      0.623490  0.781831      -0.047321      -0.998880  \n6     -0.222521  0.974928      -0.030120      -0.999546  \n9     -0.222521  0.974928      -0.030120      -0.999546  \n12    -0.222521  0.974928      -0.030120      -0.999546  \n...         ...       ...            ...            ...  \n63969  0.623490  0.781831       0.436651       0.899631  \n63972  0.623490  0.781831       0.436651       0.899631  \n63975  0.623490  0.781831       0.436651       0.899631  \n63978  0.623490  0.781831       0.436651       0.899631  \n63981  0.623490  0.781831       0.436651       0.899631  \n\n[20913 rows x 20 columns]",
      "text/html": "<div>\n<style scoped>\n    .dataframe tbody tr th:only-of-type {\n        vertical-align: middle;\n    }\n\n    .dataframe tbody tr th {\n        vertical-align: top;\n    }\n\n    .dataframe thead th {\n        text-align: right;\n    }\n</style>\n<table border=\"1\" class=\"dataframe\">\n  <thead>\n    <tr style=\"text-align: right;\">\n      <th></th>\n      <th>temperature</th>\n      <th>pedestrians_count</th>\n      <th>is_holiday</th>\n      <th>is_special_day</th>\n      <th>date</th>\n      <th>weather_condition_clear-day</th>\n      <th>weather_condition_clear-night</th>\n      <th>weather_condition_cloudy</th>\n      <th>weather_condition_fog</th>\n      <th>weather_condition_partly-cloudy-day</th>\n      <th>weather_condition_partly-cloudy-night</th>\n      <th>weather_condition_rain</th>\n      <th>weather_condition_snow</th>\n      <th>weather_condition_wind</th>\n      <th>time_cos</th>\n      <th>time_sin</th>\n      <th>day_cos</th>\n      <th>day_sin</th>\n      <th>dayofyear_cos</th>\n      <th>dayofyear_sin</th>\n    </tr>\n  </thead>\n  <tbody>\n    <tr>\n      <th>0</th>\n      <td>13.51</td>\n      <td>151</td>\n      <td>0</td>\n      <td>0</td>\n      <td>2021-09-28 22:00:00</td>\n      <td>0</td>\n      <td>0</td>\n      <td>1</td>\n      <td>0</td>\n      <td>0</td>\n      <td>0</td>\n      <td>0</td>\n      <td>0</td>\n      <td>0</td>\n      <td>0.866025</td>\n      <td>-5.000000e-01</td>\n      <td>0.623490</td>\n      <td>0.781831</td>\n      <td>-0.047321</td>\n      <td>-0.998880</td>\n    </tr>\n    <tr>\n      <th>3</th>\n      <td>13.46</td>\n      <td>19</td>\n      <td>0</td>\n      <td>0</td>\n      <td>2021-09-28 23:00:00</td>\n      <td>0</td>\n      <td>0</td>\n      <td>1</td>\n      <td>0</td>\n      <td>0</td>\n      <td>0</td>\n      <td>0</td>\n      <td>0</td>\n      <td>0</td>\n      <td>0.965926</td>\n      <td>-2.588190e-01</td>\n      <td>0.623490</td>\n      <td>0.781831</td>\n      <td>-0.047321</td>\n      <td>-0.998880</td>\n    </tr>\n    <tr>\n      <th>6</th>\n      <td>13.26</td>\n      <td>10</td>\n      <td>0</td>\n      <td>0</td>\n      <td>2021-09-29 00:00:00</td>\n      <td>0</td>\n      <td>0</td>\n      <td>0</td>\n      <td>0</td>\n      <td>0</td>\n      <td>0</td>\n      <td>1</td>\n      <td>0</td>\n      <td>0</td>\n      <td>1.000000</td>\n      <td>0.000000e+00</td>\n      <td>-0.222521</td>\n      <td>0.974928</td>\n      <td>-0.030120</td>\n      <td>-0.999546</td>\n    </tr>\n    <tr>\n      <th>9</th>\n      <td>13.51</td>\n      <td>6</td>\n      <td>0</td>\n      <td>0</td>\n      <td>2021-09-29 01:00:00</td>\n      <td>0</td>\n      <td>0</td>\n      <td>0</td>\n      <td>0</td>\n      <td>0</td>\n      <td>0</td>\n      <td>1</td>\n      <td>0</td>\n      <td>0</td>\n      <td>0.965926</td>\n      <td>2.588190e-01</td>\n      <td>-0.222521</td>\n      <td>0.974928</td>\n      <td>-0.030120</td>\n      <td>-0.999546</td>\n    </tr>\n    <tr>\n      <th>12</th>\n      <td>13.44</td>\n      <td>22</td>\n      <td>0</td>\n      <td>0</td>\n      <td>2021-09-29 02:00:00</td>\n      <td>0</td>\n      <td>0</td>\n      <td>0</td>\n      <td>0</td>\n      <td>0</td>\n      <td>0</td>\n      <td>1</td>\n      <td>0</td>\n      <td>0</td>\n      <td>0.866025</td>\n      <td>5.000000e-01</td>\n      <td>-0.222521</td>\n      <td>0.974928</td>\n      <td>-0.030120</td>\n      <td>-0.999546</td>\n    </tr>\n    <tr>\n      <th>...</th>\n      <td>...</td>\n      <td>...</td>\n      <td>...</td>\n      <td>...</td>\n      <td>...</td>\n      <td>...</td>\n      <td>...</td>\n      <td>...</td>\n      <td>...</td>\n      <td>...</td>\n      <td>...</td>\n      <td>...</td>\n      <td>...</td>\n      <td>...</td>\n      <td>...</td>\n      <td>...</td>\n      <td>...</td>\n      <td>...</td>\n      <td>...</td>\n      <td>...</td>\n    </tr>\n    <tr>\n      <th>63969</th>\n      <td>6.00</td>\n      <td>1507</td>\n      <td>0</td>\n      <td>0</td>\n      <td>2024-03-05 09:00:00</td>\n      <td>0</td>\n      <td>0</td>\n      <td>0</td>\n      <td>0</td>\n      <td>0</td>\n      <td>0</td>\n      <td>1</td>\n      <td>0</td>\n      <td>0</td>\n      <td>-0.707107</td>\n      <td>7.071068e-01</td>\n      <td>0.623490</td>\n      <td>0.781831</td>\n      <td>0.436651</td>\n      <td>0.899631</td>\n    </tr>\n    <tr>\n      <th>63972</th>\n      <td>6.00</td>\n      <td>2280</td>\n      <td>0</td>\n      <td>0</td>\n      <td>2024-03-05 10:00:00</td>\n      <td>0</td>\n      <td>0</td>\n      <td>0</td>\n      <td>0</td>\n      <td>0</td>\n      <td>0</td>\n      <td>1</td>\n      <td>0</td>\n      <td>0</td>\n      <td>-0.866025</td>\n      <td>5.000000e-01</td>\n      <td>0.623490</td>\n      <td>0.781831</td>\n      <td>0.436651</td>\n      <td>0.899631</td>\n    </tr>\n    <tr>\n      <th>63975</th>\n      <td>7.00</td>\n      <td>3216</td>\n      <td>0</td>\n      <td>0</td>\n      <td>2024-03-05 11:00:00</td>\n      <td>0</td>\n      <td>0</td>\n      <td>0</td>\n      <td>0</td>\n      <td>0</td>\n      <td>0</td>\n      <td>1</td>\n      <td>0</td>\n      <td>0</td>\n      <td>-0.965926</td>\n      <td>2.588190e-01</td>\n      <td>0.623490</td>\n      <td>0.781831</td>\n      <td>0.436651</td>\n      <td>0.899631</td>\n    </tr>\n    <tr>\n      <th>63978</th>\n      <td>6.80</td>\n      <td>2858</td>\n      <td>0</td>\n      <td>0</td>\n      <td>2024-03-05 12:00:00</td>\n      <td>0</td>\n      <td>0</td>\n      <td>0</td>\n      <td>0</td>\n      <td>0</td>\n      <td>0</td>\n      <td>1</td>\n      <td>0</td>\n      <td>0</td>\n      <td>-1.000000</td>\n      <td>1.224647e-16</td>\n      <td>0.623490</td>\n      <td>0.781831</td>\n      <td>0.436651</td>\n      <td>0.899631</td>\n    </tr>\n    <tr>\n      <th>63981</th>\n      <td>6.90</td>\n      <td>644</td>\n      <td>0</td>\n      <td>0</td>\n      <td>2024-03-05 13:00:00</td>\n      <td>0</td>\n      <td>0</td>\n      <td>0</td>\n      <td>0</td>\n      <td>0</td>\n      <td>0</td>\n      <td>1</td>\n      <td>0</td>\n      <td>0</td>\n      <td>-0.965926</td>\n      <td>-2.588190e-01</td>\n      <td>0.623490</td>\n      <td>0.781831</td>\n      <td>0.436651</td>\n      <td>0.899631</td>\n    </tr>\n  </tbody>\n</table>\n<p>20913 rows × 20 columns</p>\n</div>"
     },
     "execution_count": 12,
     "metadata": {},
     "output_type": "execute_result"
    }
   ],
   "source": [
    "df"
   ],
   "metadata": {
    "collapsed": false,
    "ExecuteTime": {
     "end_time": "2024-03-25T23:31:54.760466800Z",
     "start_time": "2024-03-25T23:31:54.729920900Z"
    }
   },
   "execution_count": 12
  },
  {
   "cell_type": "code",
   "outputs": [
    {
     "data": {
      "text/plain": "[<matplotlib.lines.Line2D at 0x14c37c3f810>]"
     },
     "execution_count": 11,
     "metadata": {},
     "output_type": "execute_result"
    }
   ],
   "source": [
    "plt.plot(pd.to_datetime(df['date']), df['pedestrians_count'])\n",
    "df2 = df.loc[df['is_special_day'] == 1]\n",
    "plt.plot(pd.to_datetime(df2['date']), df2['pedestrians_count'])"
   ],
   "metadata": {
    "collapsed": false,
    "ExecuteTime": {
     "end_time": "2024-03-25T23:31:54.534663400Z",
     "start_time": "2024-03-25T23:31:54.371814300Z"
    }
   },
   "execution_count": 11
  },
  {
   "cell_type": "code",
   "outputs": [
    {
     "data": {
      "text/plain": "       temperature  pedestrians_count  is_holiday  is_special_day  \\\n22902        15.30                252           0               1   \n22905        14.21                201           0               1   \n22908        13.18                 80           0               1   \n22911        12.40                 89           0               1   \n22914        11.88                149           0               1   \n...            ...                ...         ...             ...   \n59391         4.00               1121           0               1   \n59394         3.00                786           0               1   \n59397         1.90                416           0               1   \n59400         1.40                307           0               1   \n59403         2.80                118           0               1   \n\n                      date  weather_condition_clear-day  \\\n22902  2022-08-13 00:00:00                            0   \n22905  2022-08-13 01:00:00                            0   \n22908  2022-08-13 02:00:00                            0   \n22911  2022-08-13 03:00:00                            0   \n22914  2022-08-13 04:00:00                            0   \n...                    ...                          ...   \n59391  2024-01-01 19:00:00                            0   \n59394  2024-01-01 20:00:00                            0   \n59397  2024-01-01 21:00:00                            0   \n59400  2024-01-01 22:00:00                            0   \n59403  2024-01-01 23:00:00                            0   \n\n       weather_condition_clear-night  weather_condition_cloudy  \\\n22902                              1                         0   \n22905                              1                         0   \n22908                              1                         0   \n22911                              1                         0   \n22914                              1                         0   \n...                              ...                       ...   \n59391                              0                         0   \n59394                              0                         1   \n59397                              0                         1   \n59400                              0                         1   \n59403                              0                         0   \n\n       weather_condition_fog  weather_condition_partly-cloudy-day  \\\n22902                      0                                    0   \n22905                      0                                    0   \n22908                      0                                    0   \n22911                      0                                    0   \n22914                      0                                    0   \n...                      ...                                  ...   \n59391                      0                                    0   \n59394                      0                                    0   \n59397                      0                                    0   \n59400                      0                                    0   \n59403                      0                                    0   \n\n       weather_condition_partly-cloudy-night  weather_condition_rain  \\\n22902                                      0                       0   \n22905                                      0                       0   \n22908                                      0                       0   \n22911                                      0                       0   \n22914                                      0                       0   \n...                                      ...                     ...   \n59391                                      1                       0   \n59394                                      0                       0   \n59397                                      0                       0   \n59400                                      0                       0   \n59403                                      1                       0   \n\n       weather_condition_snow  weather_condition_wind  time_cos  time_sin  \\\n22902                       0                       0  1.000000  0.000000   \n22905                       0                       0  0.965926  0.258819   \n22908                       0                       0  0.866025  0.500000   \n22911                       0                       0  0.707107  0.707107   \n22914                       0                       0  0.500000  0.866025   \n...                       ...                     ...       ...       ...   \n59391                       0                       0  0.258819 -0.965926   \n59394                       0                       0  0.500000 -0.866025   \n59397                       0                       0  0.707107 -0.707107   \n59400                       0                       0  0.866025 -0.500000   \n59403                       0                       0  0.965926 -0.258819   \n\n        day_cos   day_sin  dayofyear_cos  dayofyear_sin  \n22902 -0.222521 -0.974928      -0.744104      -0.668064  \n22905 -0.222521 -0.974928      -0.744104      -0.668064  \n22908 -0.222521 -0.974928      -0.744104      -0.668064  \n22911 -0.222521 -0.974928      -0.744104      -0.668064  \n22914 -0.222521 -0.974928      -0.744104      -0.668064  \n...         ...       ...            ...            ...  \n59391  1.000000  0.000000       0.999852       0.017213  \n59394  1.000000  0.000000       0.999852       0.017213  \n59397  1.000000  0.000000       0.999852       0.017213  \n59400  1.000000  0.000000       0.999852       0.017213  \n59403  1.000000  0.000000       0.999852       0.017213  \n\n[288 rows x 20 columns]",
      "text/html": "<div>\n<style scoped>\n    .dataframe tbody tr th:only-of-type {\n        vertical-align: middle;\n    }\n\n    .dataframe tbody tr th {\n        vertical-align: top;\n    }\n\n    .dataframe thead th {\n        text-align: right;\n    }\n</style>\n<table border=\"1\" class=\"dataframe\">\n  <thead>\n    <tr style=\"text-align: right;\">\n      <th></th>\n      <th>temperature</th>\n      <th>pedestrians_count</th>\n      <th>is_holiday</th>\n      <th>is_special_day</th>\n      <th>date</th>\n      <th>weather_condition_clear-day</th>\n      <th>weather_condition_clear-night</th>\n      <th>weather_condition_cloudy</th>\n      <th>weather_condition_fog</th>\n      <th>weather_condition_partly-cloudy-day</th>\n      <th>weather_condition_partly-cloudy-night</th>\n      <th>weather_condition_rain</th>\n      <th>weather_condition_snow</th>\n      <th>weather_condition_wind</th>\n      <th>time_cos</th>\n      <th>time_sin</th>\n      <th>day_cos</th>\n      <th>day_sin</th>\n      <th>dayofyear_cos</th>\n      <th>dayofyear_sin</th>\n    </tr>\n  </thead>\n  <tbody>\n    <tr>\n      <th>22902</th>\n      <td>15.30</td>\n      <td>252</td>\n      <td>0</td>\n      <td>1</td>\n      <td>2022-08-13 00:00:00</td>\n      <td>0</td>\n      <td>1</td>\n      <td>0</td>\n      <td>0</td>\n      <td>0</td>\n      <td>0</td>\n      <td>0</td>\n      <td>0</td>\n      <td>0</td>\n      <td>1.000000</td>\n      <td>0.000000</td>\n      <td>-0.222521</td>\n      <td>-0.974928</td>\n      <td>-0.744104</td>\n      <td>-0.668064</td>\n    </tr>\n    <tr>\n      <th>22905</th>\n      <td>14.21</td>\n      <td>201</td>\n      <td>0</td>\n      <td>1</td>\n      <td>2022-08-13 01:00:00</td>\n      <td>0</td>\n      <td>1</td>\n      <td>0</td>\n      <td>0</td>\n      <td>0</td>\n      <td>0</td>\n      <td>0</td>\n      <td>0</td>\n      <td>0</td>\n      <td>0.965926</td>\n      <td>0.258819</td>\n      <td>-0.222521</td>\n      <td>-0.974928</td>\n      <td>-0.744104</td>\n      <td>-0.668064</td>\n    </tr>\n    <tr>\n      <th>22908</th>\n      <td>13.18</td>\n      <td>80</td>\n      <td>0</td>\n      <td>1</td>\n      <td>2022-08-13 02:00:00</td>\n      <td>0</td>\n      <td>1</td>\n      <td>0</td>\n      <td>0</td>\n      <td>0</td>\n      <td>0</td>\n      <td>0</td>\n      <td>0</td>\n      <td>0</td>\n      <td>0.866025</td>\n      <td>0.500000</td>\n      <td>-0.222521</td>\n      <td>-0.974928</td>\n      <td>-0.744104</td>\n      <td>-0.668064</td>\n    </tr>\n    <tr>\n      <th>22911</th>\n      <td>12.40</td>\n      <td>89</td>\n      <td>0</td>\n      <td>1</td>\n      <td>2022-08-13 03:00:00</td>\n      <td>0</td>\n      <td>1</td>\n      <td>0</td>\n      <td>0</td>\n      <td>0</td>\n      <td>0</td>\n      <td>0</td>\n      <td>0</td>\n      <td>0</td>\n      <td>0.707107</td>\n      <td>0.707107</td>\n      <td>-0.222521</td>\n      <td>-0.974928</td>\n      <td>-0.744104</td>\n      <td>-0.668064</td>\n    </tr>\n    <tr>\n      <th>22914</th>\n      <td>11.88</td>\n      <td>149</td>\n      <td>0</td>\n      <td>1</td>\n      <td>2022-08-13 04:00:00</td>\n      <td>0</td>\n      <td>1</td>\n      <td>0</td>\n      <td>0</td>\n      <td>0</td>\n      <td>0</td>\n      <td>0</td>\n      <td>0</td>\n      <td>0</td>\n      <td>0.500000</td>\n      <td>0.866025</td>\n      <td>-0.222521</td>\n      <td>-0.974928</td>\n      <td>-0.744104</td>\n      <td>-0.668064</td>\n    </tr>\n    <tr>\n      <th>...</th>\n      <td>...</td>\n      <td>...</td>\n      <td>...</td>\n      <td>...</td>\n      <td>...</td>\n      <td>...</td>\n      <td>...</td>\n      <td>...</td>\n      <td>...</td>\n      <td>...</td>\n      <td>...</td>\n      <td>...</td>\n      <td>...</td>\n      <td>...</td>\n      <td>...</td>\n      <td>...</td>\n      <td>...</td>\n      <td>...</td>\n      <td>...</td>\n      <td>...</td>\n    </tr>\n    <tr>\n      <th>59391</th>\n      <td>4.00</td>\n      <td>1121</td>\n      <td>0</td>\n      <td>1</td>\n      <td>2024-01-01 19:00:00</td>\n      <td>0</td>\n      <td>0</td>\n      <td>0</td>\n      <td>0</td>\n      <td>0</td>\n      <td>1</td>\n      <td>0</td>\n      <td>0</td>\n      <td>0</td>\n      <td>0.258819</td>\n      <td>-0.965926</td>\n      <td>1.000000</td>\n      <td>0.000000</td>\n      <td>0.999852</td>\n      <td>0.017213</td>\n    </tr>\n    <tr>\n      <th>59394</th>\n      <td>3.00</td>\n      <td>786</td>\n      <td>0</td>\n      <td>1</td>\n      <td>2024-01-01 20:00:00</td>\n      <td>0</td>\n      <td>0</td>\n      <td>1</td>\n      <td>0</td>\n      <td>0</td>\n      <td>0</td>\n      <td>0</td>\n      <td>0</td>\n      <td>0</td>\n      <td>0.500000</td>\n      <td>-0.866025</td>\n      <td>1.000000</td>\n      <td>0.000000</td>\n      <td>0.999852</td>\n      <td>0.017213</td>\n    </tr>\n    <tr>\n      <th>59397</th>\n      <td>1.90</td>\n      <td>416</td>\n      <td>0</td>\n      <td>1</td>\n      <td>2024-01-01 21:00:00</td>\n      <td>0</td>\n      <td>0</td>\n      <td>1</td>\n      <td>0</td>\n      <td>0</td>\n      <td>0</td>\n      <td>0</td>\n      <td>0</td>\n      <td>0</td>\n      <td>0.707107</td>\n      <td>-0.707107</td>\n      <td>1.000000</td>\n      <td>0.000000</td>\n      <td>0.999852</td>\n      <td>0.017213</td>\n    </tr>\n    <tr>\n      <th>59400</th>\n      <td>1.40</td>\n      <td>307</td>\n      <td>0</td>\n      <td>1</td>\n      <td>2024-01-01 22:00:00</td>\n      <td>0</td>\n      <td>0</td>\n      <td>1</td>\n      <td>0</td>\n      <td>0</td>\n      <td>0</td>\n      <td>0</td>\n      <td>0</td>\n      <td>0</td>\n      <td>0.866025</td>\n      <td>-0.500000</td>\n      <td>1.000000</td>\n      <td>0.000000</td>\n      <td>0.999852</td>\n      <td>0.017213</td>\n    </tr>\n    <tr>\n      <th>59403</th>\n      <td>2.80</td>\n      <td>118</td>\n      <td>0</td>\n      <td>1</td>\n      <td>2024-01-01 23:00:00</td>\n      <td>0</td>\n      <td>0</td>\n      <td>0</td>\n      <td>0</td>\n      <td>0</td>\n      <td>1</td>\n      <td>0</td>\n      <td>0</td>\n      <td>0</td>\n      <td>0.965926</td>\n      <td>-0.258819</td>\n      <td>1.000000</td>\n      <td>0.000000</td>\n      <td>0.999852</td>\n      <td>0.017213</td>\n    </tr>\n  </tbody>\n</table>\n<p>288 rows × 20 columns</p>\n</div>"
     },
     "execution_count": 7,
     "metadata": {},
     "output_type": "execute_result"
    }
   ],
   "source": [
    "\n",
    "np.sum(df['is_special_day'])\n",
    "\n",
    "df[df['is_special_day']==1]"
   ],
   "metadata": {
    "collapsed": false,
    "ExecuteTime": {
     "end_time": "2024-03-25T19:02:45.764782700Z",
     "start_time": "2024-03-25T19:02:45.733778300Z"
    }
   },
   "execution_count": 7
  },
  {
   "cell_type": "code",
   "outputs": [
    {
     "data": {
      "text/plain": "[<matplotlib.lines.Line2D at 0x2764fec3b10>]"
     },
     "execution_count": 6,
     "metadata": {},
     "output_type": "execute_result"
    }
   ],
   "source": [
    "plt.plot(pd.to_datetime(df.date), df.pedestrians_count)"
   ],
   "metadata": {
    "collapsed": false,
    "ExecuteTime": {
     "end_time": "2024-03-25T18:49:36.008493300Z",
     "start_time": "2024-03-25T18:49:35.763428100Z"
    }
   },
   "execution_count": 6
  },
  {
   "cell_type": "code",
   "execution_count": 3,
   "metadata": {
    "ExecuteTime": {
     "end_time": "2024-03-25T19:01:14.212317300Z",
     "start_time": "2024-03-25T19:01:13.077238Z"
    }
   },
   "outputs": [],
   "source": [
    "matplotlib.use(\"TkAgg\")\n",
    "plt.figure()\n",
    "plt.plot([datetime.strptime(d, \"%Y-%m-%d %H:%M:%S\") for d in df['date']], df['pedestrians_count'])\n",
    "plt.show()\n",
    "\n",
    "plt.figure()\n",
    "plt.hist(df['pedestrians_count'], bins=50)\n",
    "plt.show()\n",
    "\n",
    "window_size = 24*365  # You can adjust this as needed\n",
    "m_avg = df['pedestrians_count'].rolling(window=window_size, center=True).mean()\n",
    "\n",
    "# Plot original data and centered moving average\n",
    "plt.figure()\n",
    "plt.plot([datetime.strptime(d, \"%Y-%m-%d %H:%M:%S\") for d in df['date']], df['pedestrians_count'], label='Pedestrians Count')\n",
    "plt.plot([datetime.strptime(d, \"%Y-%m-%d %H:%M:%S\") for d in df['date']], m_avg, label='Moving Average', linestyle='--')\n",
    "plt.xlabel('Date')\n",
    "plt.ylabel('Pedestrians Count')\n",
    "plt.title('Pedestrians Count with Centered Moving Average')\n",
    "plt.legend()\n",
    "plt.show()"
   ]
  },
  {
   "cell_type": "code",
   "outputs": [],
   "source": [
    "#split train-test manually\n",
    "df_unseen = df[[datetime.strptime(d, '%Y-%m-%d %H:%M:%S') > datetime(2023, 5, 5) for d in df['date']]]\n",
    "df_seen = df[[datetime.strptime(d, '%Y-%m-%d %H:%M:%S') <= datetime(2023, 5, 5) for d in df['date']]]\n",
    "\n",
    "\n",
    "X_train = df_seen.drop(columns=[\"date\", 'pedestrians_count', 'is_special_day'])\n",
    "y_train = df_seen['pedestrians_count']\n",
    "\n",
    "X_test = df_unseen.drop(columns=[\"date\", 'pedestrians_count', 'is_special_day'])\n",
    "y_test = df_unseen['pedestrians_count']"
   ],
   "metadata": {
    "collapsed": false,
    "ExecuteTime": {
     "end_time": "2024-03-26T00:58:14.043431600Z",
     "start_time": "2024-03-26T00:58:13.509759500Z"
    }
   },
   "execution_count": 3
  },
  {
   "cell_type": "code",
   "execution_count": 4,
   "metadata": {
    "ExecuteTime": {
     "end_time": "2024-03-26T00:58:27.015964300Z",
     "start_time": "2024-03-26T00:58:17.119158Z"
    }
   },
   "outputs": [
    {
     "name": "stderr",
     "output_type": "stream",
     "text": [
      "[Parallel(n_jobs=1)]: Using backend SequentialBackend with 1 concurrent workers.\n",
      "[Parallel(n_jobs=1)]: Done 100 out of 100 | elapsed:    9.8s finished\n"
     ]
    },
    {
     "data": {
      "text/plain": "RandomForestRegressor(random_state=4, verbose=True)",
      "text/html": "<style>#sk-container-id-1 {color: black;}#sk-container-id-1 pre{padding: 0;}#sk-container-id-1 div.sk-toggleable {background-color: white;}#sk-container-id-1 label.sk-toggleable__label {cursor: pointer;display: block;width: 100%;margin-bottom: 0;padding: 0.3em;box-sizing: border-box;text-align: center;}#sk-container-id-1 label.sk-toggleable__label-arrow:before {content: \"▸\";float: left;margin-right: 0.25em;color: #696969;}#sk-container-id-1 label.sk-toggleable__label-arrow:hover:before {color: black;}#sk-container-id-1 div.sk-estimator:hover label.sk-toggleable__label-arrow:before {color: black;}#sk-container-id-1 div.sk-toggleable__content {max-height: 0;max-width: 0;overflow: hidden;text-align: left;background-color: #f0f8ff;}#sk-container-id-1 div.sk-toggleable__content pre {margin: 0.2em;color: black;border-radius: 0.25em;background-color: #f0f8ff;}#sk-container-id-1 input.sk-toggleable__control:checked~div.sk-toggleable__content {max-height: 200px;max-width: 100%;overflow: auto;}#sk-container-id-1 input.sk-toggleable__control:checked~label.sk-toggleable__label-arrow:before {content: \"▾\";}#sk-container-id-1 div.sk-estimator input.sk-toggleable__control:checked~label.sk-toggleable__label {background-color: #d4ebff;}#sk-container-id-1 div.sk-label input.sk-toggleable__control:checked~label.sk-toggleable__label {background-color: #d4ebff;}#sk-container-id-1 input.sk-hidden--visually {border: 0;clip: rect(1px 1px 1px 1px);clip: rect(1px, 1px, 1px, 1px);height: 1px;margin: -1px;overflow: hidden;padding: 0;position: absolute;width: 1px;}#sk-container-id-1 div.sk-estimator {font-family: monospace;background-color: #f0f8ff;border: 1px dotted black;border-radius: 0.25em;box-sizing: border-box;margin-bottom: 0.5em;}#sk-container-id-1 div.sk-estimator:hover {background-color: #d4ebff;}#sk-container-id-1 div.sk-parallel-item::after {content: \"\";width: 100%;border-bottom: 1px solid gray;flex-grow: 1;}#sk-container-id-1 div.sk-label:hover label.sk-toggleable__label {background-color: #d4ebff;}#sk-container-id-1 div.sk-serial::before {content: \"\";position: absolute;border-left: 1px solid gray;box-sizing: border-box;top: 0;bottom: 0;left: 50%;z-index: 0;}#sk-container-id-1 div.sk-serial {display: flex;flex-direction: column;align-items: center;background-color: white;padding-right: 0.2em;padding-left: 0.2em;position: relative;}#sk-container-id-1 div.sk-item {position: relative;z-index: 1;}#sk-container-id-1 div.sk-parallel {display: flex;align-items: stretch;justify-content: center;background-color: white;position: relative;}#sk-container-id-1 div.sk-item::before, #sk-container-id-1 div.sk-parallel-item::before {content: \"\";position: absolute;border-left: 1px solid gray;box-sizing: border-box;top: 0;bottom: 0;left: 50%;z-index: -1;}#sk-container-id-1 div.sk-parallel-item {display: flex;flex-direction: column;z-index: 1;position: relative;background-color: white;}#sk-container-id-1 div.sk-parallel-item:first-child::after {align-self: flex-end;width: 50%;}#sk-container-id-1 div.sk-parallel-item:last-child::after {align-self: flex-start;width: 50%;}#sk-container-id-1 div.sk-parallel-item:only-child::after {width: 0;}#sk-container-id-1 div.sk-dashed-wrapped {border: 1px dashed gray;margin: 0 0.4em 0.5em 0.4em;box-sizing: border-box;padding-bottom: 0.4em;background-color: white;}#sk-container-id-1 div.sk-label label {font-family: monospace;font-weight: bold;display: inline-block;line-height: 1.2em;}#sk-container-id-1 div.sk-label-container {text-align: center;}#sk-container-id-1 div.sk-container {/* jupyter's `normalize.less` sets `[hidden] { display: none; }` but bootstrap.min.css set `[hidden] { display: none !important; }` so we also need the `!important` here to be able to override the default hidden behavior on the sphinx rendered scikit-learn.org. See: https://github.com/scikit-learn/scikit-learn/issues/21755 */display: inline-block !important;position: relative;}#sk-container-id-1 div.sk-text-repr-fallback {display: none;}</style><div id=\"sk-container-id-1\" class=\"sk-top-container\"><div class=\"sk-text-repr-fallback\"><pre>RandomForestRegressor(random_state=4, verbose=True)</pre><b>In a Jupyter environment, please rerun this cell to show the HTML representation or trust the notebook. <br />On GitHub, the HTML representation is unable to render, please try loading this page with nbviewer.org.</b></div><div class=\"sk-container\" hidden><div class=\"sk-item\"><div class=\"sk-estimator sk-toggleable\"><input class=\"sk-toggleable__control sk-hidden--visually\" id=\"sk-estimator-id-1\" type=\"checkbox\" checked><label for=\"sk-estimator-id-1\" class=\"sk-toggleable__label sk-toggleable__label-arrow\">RandomForestRegressor</label><div class=\"sk-toggleable__content\"><pre>RandomForestRegressor(random_state=4, verbose=True)</pre></div></div></div></div></div>"
     },
     "execution_count": 4,
     "metadata": {},
     "output_type": "execute_result"
    }
   ],
   "source": [
    "forest = RandomForestRegressor(verbose=True, n_estimators=100, random_state=4)\n",
    "forest.fit(X_train, y_train)"
   ]
  },
  {
   "cell_type": "code",
   "execution_count": 5,
   "metadata": {
    "ExecuteTime": {
     "end_time": "2024-03-26T00:58:27.449637300Z",
     "start_time": "2024-03-26T00:58:27.031980700Z"
    }
   },
   "outputs": [
    {
     "name": "stderr",
     "output_type": "stream",
     "text": [
      "[Parallel(n_jobs=1)]: Using backend SequentialBackend with 1 concurrent workers.\n"
     ]
    },
    {
     "name": "stdout",
     "output_type": "stream",
     "text": [
      "Score in the training set: 0.9943219946204228\n",
      "Score in the test set: 0.9383948228920175\n"
     ]
    },
    {
     "name": "stderr",
     "output_type": "stream",
     "text": [
      "[Parallel(n_jobs=1)]: Done 100 out of 100 | elapsed:    0.2s finished\n",
      "[Parallel(n_jobs=1)]: Using backend SequentialBackend with 1 concurrent workers.\n",
      "[Parallel(n_jobs=1)]: Done 100 out of 100 | elapsed:    0.0s finished\n"
     ]
    }
   ],
   "source": [
    "print(\"Score in the training set:\" , forest.score(X_train, y_train))\n",
    "print(\"Score in the test set:\" , forest.score(X_test, y_test))"
   ]
  },
  {
   "cell_type": "markdown",
   "source": [],
   "metadata": {
    "collapsed": false
   }
  },
  {
   "cell_type": "code",
   "outputs": [
    {
     "name": "stderr",
     "output_type": "stream",
     "text": [
      "[Parallel(n_jobs=1)]: Using backend SequentialBackend with 1 concurrent workers.\n",
      "[Parallel(n_jobs=1)]: Done 100 out of 100 | elapsed:    0.0s finished\n",
      "[Parallel(n_jobs=1)]: Using backend SequentialBackend with 1 concurrent workers.\n"
     ]
    },
    {
     "name": "stdout",
     "output_type": "stream",
     "text": [
      "367.96305670063293\n",
      "201.93045103273852\n"
     ]
    },
    {
     "name": "stderr",
     "output_type": "stream",
     "text": [
      "[Parallel(n_jobs=1)]: Done 100 out of 100 | elapsed:    0.0s finished\n"
     ]
    }
   ],
   "source": [
    "print(mean_squared_error(y_test, forest.predict(X_test), squared=False))\n",
    "print(mean_absolute_error(y_test, forest.predict(X_test)))"
   ],
   "metadata": {
    "collapsed": false,
    "ExecuteTime": {
     "end_time": "2024-03-26T00:48:45.962432400Z",
     "start_time": "2024-03-26T00:48:45.666165700Z"
    }
   },
   "execution_count": 12
  },
  {
   "cell_type": "code",
   "outputs": [
    {
     "name": "stderr",
     "output_type": "stream",
     "text": [
      "[Parallel(n_jobs=1)]: Using backend SequentialBackend with 1 concurrent workers.\n",
      "[Parallel(n_jobs=1)]: Done 100 out of 100 | elapsed:    0.2s finished\n",
      "[Parallel(n_jobs=1)]: Using backend SequentialBackend with 1 concurrent workers.\n"
     ]
    },
    {
     "name": "stdout",
     "output_type": "stream",
     "text": [
      "108.40785412213141\n",
      "56.77800304436068\n"
     ]
    },
    {
     "name": "stderr",
     "output_type": "stream",
     "text": [
      "[Parallel(n_jobs=1)]: Done 100 out of 100 | elapsed:    0.2s finished\n"
     ]
    }
   ],
   "source": [
    "print(mean_squared_error(y_train, forest.predict(X_train), squared=False))\n",
    "print(mean_absolute_error(y_train, forest.predict(X_train)))"
   ],
   "metadata": {
    "collapsed": false,
    "ExecuteTime": {
     "end_time": "2024-03-26T00:48:47.745708600Z",
     "start_time": "2024-03-26T00:48:47.182769100Z"
    }
   },
   "execution_count": 13
  },
  {
   "cell_type": "code",
   "execution_count": 39,
   "metadata": {
    "ExecuteTime": {
     "end_time": "2024-03-26T00:20:28.977538200Z",
     "start_time": "2024-03-26T00:20:28.745172400Z"
    }
   },
   "outputs": [
    {
     "name": "stderr",
     "output_type": "stream",
     "text": [
      "[Parallel(n_jobs=1)]: Using backend SequentialBackend with 1 concurrent workers.\n",
      "[Parallel(n_jobs=1)]: Done 300 out of 300 | elapsed:    0.1s finished\n"
     ]
    }
   ],
   "source": [
    "reals = np.array(df_unseen['pedestrians_count'])\n",
    "preds = np.array(forest.predict(df_unseen.drop(columns=['pedestrians_count', 'date', 'is_special_day'])))\n",
    "dates = np.array([datetime.strptime(d, \"%Y-%m-%d %H:%M:%S\") for d in df_unseen['date']])"
   ]
  },
  {
   "cell_type": "code",
   "execution_count": 30,
   "metadata": {
    "ExecuteTime": {
     "end_time": "2024-03-26T00:11:56.077597Z",
     "start_time": "2024-03-26T00:11:55.895858300Z"
    }
   },
   "outputs": [],
   "source": [
    "%matplotlib tk\n",
    "matplotlib.use(\"TkAgg\")\n",
    "plt.figure()\n",
    "plt.plot(dates, reals)\n",
    "plt.plot(dates, preds)\n",
    "plt.show()"
   ]
  },
  {
   "cell_type": "code",
   "execution_count": 40,
   "metadata": {
    "ExecuteTime": {
     "end_time": "2024-03-26T00:20:30.969541Z",
     "start_time": "2024-03-26T00:20:30.836853600Z"
    }
   },
   "outputs": [
    {
     "data": {
      "text/plain": "(array([2.000e+00, 0.000e+00, 1.000e+00, 0.000e+00, 0.000e+00, 1.000e+00,\n        2.000e+00, 0.000e+00, 1.000e+00, 0.000e+00, 0.000e+00, 0.000e+00,\n        0.000e+00, 1.000e+00, 0.000e+00, 2.000e+00, 0.000e+00, 1.000e+00,\n        1.000e+00, 0.000e+00, 2.000e+00, 1.000e+00, 4.000e+00, 1.000e+00,\n        5.000e+00, 3.000e+00, 7.000e+00, 5.000e+00, 7.000e+00, 6.000e+00,\n        8.000e+00, 1.100e+01, 7.000e+00, 1.100e+01, 9.000e+00, 1.300e+01,\n        9.000e+00, 1.800e+01, 2.000e+01, 2.100e+01, 2.800e+01, 3.700e+01,\n        4.800e+01, 6.700e+01, 7.400e+01, 1.050e+02, 1.330e+02, 1.950e+02,\n        3.830e+02, 1.951e+03, 1.171e+03, 6.410e+02, 4.860e+02, 3.260e+02,\n        2.880e+02, 2.000e+02, 1.830e+02, 1.450e+02, 9.900e+01, 7.400e+01,\n        6.200e+01, 4.500e+01, 3.700e+01, 2.400e+01, 2.600e+01, 2.200e+01,\n        1.300e+01, 1.300e+01, 6.000e+00, 3.000e+00, 5.000e+00, 6.000e+00,\n        3.000e+00, 5.000e+00, 3.000e+00, 9.000e+00, 1.000e+00, 2.000e+00,\n        4.000e+00, 4.000e+00, 2.000e+00, 0.000e+00, 1.000e+00, 0.000e+00,\n        1.000e+00, 1.000e+00, 1.000e+00, 1.000e+00, 0.000e+00, 0.000e+00,\n        1.000e+00, 0.000e+00, 0.000e+00, 0.000e+00, 0.000e+00, 1.000e+00,\n        0.000e+00, 0.000e+00, 0.000e+00, 1.000e+00]),\n array([-3512.88876136, -3442.50274421, -3372.11672706, -3301.73070991,\n        -3231.34469276, -3160.9586756 , -3090.57265845, -3020.1866413 ,\n        -2949.80062415, -2879.41460699, -2809.02858984, -2738.64257269,\n        -2668.25655554, -2597.87053838, -2527.48452123, -2457.09850408,\n        -2386.71248693, -2316.32646978, -2245.94045262, -2175.55443547,\n        -2105.16841832, -2034.78240117, -1964.39638401, -1894.01036686,\n        -1823.62434971, -1753.23833256, -1682.85231541, -1612.46629825,\n        -1542.0802811 , -1471.69426395, -1401.3082468 , -1330.92222964,\n        -1260.53621249, -1190.15019534, -1119.76417819, -1049.37816103,\n         -978.99214388,  -908.60612673,  -838.22010958,  -767.83409243,\n         -697.44807527,  -627.06205812,  -556.67604097,  -486.29002382,\n         -415.90400666,  -345.51798951,  -275.13197236,  -204.74595521,\n         -134.35993806,   -63.9739209 ,     6.41209625,    76.7981134 ,\n          147.18413055,   217.57014771,   287.95616486,   358.34218201,\n          428.72819916,   499.11421632,   569.50023347,   639.88625062,\n          710.27226777,   780.65828492,   851.04430208,   921.43031923,\n          991.81633638,  1062.20235353,  1132.58837069,  1202.97438784,\n         1273.36040499,  1343.74642214,  1414.1324393 ,  1484.51845645,\n         1554.9044736 ,  1625.29049075,  1695.6765079 ,  1766.06252506,\n         1836.44854221,  1906.83455936,  1977.22057651,  2047.60659367,\n         2117.99261082,  2188.37862797,  2258.76464512,  2329.15066227,\n         2399.53667943,  2469.92269658,  2540.30871373,  2610.69473088,\n         2681.08074804,  2751.46676519,  2821.85278234,  2892.23879949,\n         2962.62481665,  3033.0108338 ,  3103.39685095,  3173.7828681 ,\n         3244.16888525,  3314.55490241,  3384.94091956,  3455.32693671,\n         3525.71295386]),\n <BarContainer object of 100 artists>)"
     },
     "execution_count": 40,
     "metadata": {},
     "output_type": "execute_result"
    }
   ],
   "source": [
    "errors = (reals-preds)\n",
    "plt.hist(errors, bins=100)"
   ]
  },
  {
   "cell_type": "code",
   "outputs": [
    {
     "data": {
      "text/plain": "500.5174346540065"
     },
     "execution_count": 20,
     "metadata": {},
     "output_type": "execute_result"
    }
   ],
   "source": [
    "np.percentile(errors, 95)"
   ],
   "metadata": {
    "collapsed": false,
    "ExecuteTime": {
     "end_time": "2024-03-25T23:49:51.156305300Z",
     "start_time": "2024-03-25T23:49:51.149331200Z"
    }
   },
   "execution_count": 20
  },
  {
   "cell_type": "code",
   "outputs": [
    {
     "data": {
      "text/plain": "-803.5844615021646"
     },
     "execution_count": 19,
     "metadata": {},
     "output_type": "execute_result"
    }
   ],
   "source": [
    "np.percentile(errors, 5)"
   ],
   "metadata": {
    "collapsed": false,
    "ExecuteTime": {
     "end_time": "2024-03-25T23:49:48.648072600Z",
     "start_time": "2024-03-25T23:49:48.633580400Z"
    }
   },
   "execution_count": 19
  },
  {
   "cell_type": "code",
   "outputs": [
    {
     "data": {
      "text/plain": "Text(0.5, 1.0, 'Global Feature Importance - Built-in Method')"
     },
     "execution_count": 42,
     "metadata": {},
     "output_type": "execute_result"
    }
   ],
   "source": [
    "global_importances = pd.Series(forest.feature_importances_, index=X_train.columns)\n",
    "global_importances.sort_values(ascending=True, inplace=True)\n",
    "global_importances.plot.barh(color='green')\n",
    "plt.xlabel(\"Importance\")\n",
    "plt.ylabel(\"Feature\")\n",
    "plt.title(\"Global Feature Importance - Built-in Method\")"
   ],
   "metadata": {
    "collapsed": false,
    "ExecuteTime": {
     "end_time": "2024-03-26T00:38:42.474109800Z",
     "start_time": "2024-03-26T00:38:42.239894300Z"
    }
   },
   "execution_count": 42
  },
  {
   "cell_type": "code",
   "outputs": [],
   "source": [
    "import shap"
   ],
   "metadata": {
    "collapsed": false,
    "ExecuteTime": {
     "end_time": "2024-03-26T00:58:34.000918500Z",
     "start_time": "2024-03-26T00:58:33.299311900Z"
    }
   },
   "execution_count": 6
  },
  {
   "cell_type": "code",
   "outputs": [],
   "source": [
    "explainer = shap.Explainer(forest)"
   ],
   "metadata": {
    "collapsed": false,
    "ExecuteTime": {
     "end_time": "2024-03-26T00:58:34.930011100Z",
     "start_time": "2024-03-26T00:58:34.777796500Z"
    }
   },
   "execution_count": 7
  },
  {
   "cell_type": "code",
   "outputs": [],
   "source": [
    "shap_values = explainer(X_train.iloc[0:200], check_additivity=False)"
   ],
   "metadata": {
    "collapsed": false,
    "ExecuteTime": {
     "end_time": "2024-03-26T01:00:22.730738900Z",
     "start_time": "2024-03-26T00:59:24.941319200Z"
    }
   },
   "execution_count": 9
  },
  {
   "cell_type": "code",
   "outputs": [],
   "source": [
    "shap.plots.beeswarm(shap_values)"
   ],
   "metadata": {
    "collapsed": false,
    "ExecuteTime": {
     "end_time": "2024-03-26T01:00:27.188492400Z",
     "start_time": "2024-03-26T01:00:26.972284300Z"
    }
   },
   "execution_count": 10
  },
  {
   "cell_type": "code",
   "outputs": [],
   "source": [],
   "metadata": {
    "collapsed": false
   }
  }
 ],
 "metadata": {
  "kernelspec": {
   "display_name": "default_env",
   "language": "python",
   "name": "python3"
  },
  "language_info": {
   "codemirror_mode": {
    "name": "ipython",
    "version": 3
   },
   "file_extension": ".py",
   "mimetype": "text/x-python",
   "name": "python",
   "nbconvert_exporter": "python",
   "pygments_lexer": "ipython3",
   "version": "3.11.8"
  }
 },
 "nbformat": 4,
 "nbformat_minor": 2
}
